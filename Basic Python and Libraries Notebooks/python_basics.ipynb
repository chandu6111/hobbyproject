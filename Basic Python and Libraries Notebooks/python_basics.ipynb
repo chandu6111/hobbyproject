{
 "cells": [
  {
   "cell_type": "markdown",
   "metadata": {},
   "source": [
    "THIS NOTEBOOK CONTAINS ALL THE BASICS OF PYTHON WITH FEW DATA STRUCTURES. Enjoy learning!"
   ]
  },
  {
   "cell_type": "code",
   "execution_count": 2,
   "metadata": {},
   "outputs": [
    {
     "name": "stdout",
     "output_type": "stream",
     "text": [
      "Hello World\n"
     ]
    }
   ],
   "source": [
    "#python basics\n",
    "#hello world program. u just need to write a print statement and a string in it.\n",
    "print(\"Hello World\")"
   ]
  },
  {
   "cell_type": "code",
   "execution_count": 3,
   "metadata": {},
   "outputs": [
    {
     "name": "stdout",
     "output_type": "stream",
     "text": [
      "5\n",
      "5.5\n",
      "I am a student\n",
      "a\n",
      "<class 'int'>\n",
      "<class 'float'>\n",
      "<class 'str'>\n"
     ]
    },
    {
     "data": {
      "text/plain": [
       "str"
      ]
     },
     "execution_count": 3,
     "metadata": {},
     "output_type": "execute_result"
    }
   ],
   "source": [
    "#variables are the containers or placeholders of data. they hold a data type.\n",
    "a=5 #a is a variable of type integer\n",
    "print(a)\n",
    "b=5.5 #b is a variable of type float\n",
    "print(b)\n",
    "c=\"I am a student\" #c is a variable of type string\n",
    "print(c)\n",
    "d='a' #d is a character, also called string in python. string can have both ' ' and \" \".\n",
    "print(d)\n",
    "#int a=10; \n",
    "#typeof(a);\n",
    "print(type(a))\n",
    "print(type(b))\n",
    "print(type(c))\n",
    "type(d)"
   ]
  },
  {
   "cell_type": "code",
   "execution_count": 1,
   "metadata": {},
   "outputs": [
    {
     "name": "stdout",
     "output_type": "stream",
     "text": [
      "Enter name: chandu\n",
      "My name is chandu\n"
     ]
    }
   ],
   "source": [
    "#taking input in python\n",
    "#for taking string input, use input() function\n",
    "#default input type is string in python\n",
    "name=input(\"Enter name: \")\n",
    "print(\"My name is\",name)"
   ]
  },
  {
   "cell_type": "code",
   "execution_count": 2,
   "metadata": {},
   "outputs": [
    {
     "name": "stdout",
     "output_type": "stream",
     "text": [
      "Enter marks80\n",
      "80\n",
      "Enter percentage98.67\n",
      "98.67\n"
     ]
    }
   ],
   "source": [
    "#incase, u want to input an integer or float, do type casting by mentioning int() or float()\n",
    "marks=int(input(\"Enter marks\"))\n",
    "print(marks)\n",
    "percentage=float(input(\"Enter percentage\"))\n",
    "print(percentage)"
   ]
  },
  {
   "cell_type": "code",
   "execution_count": 3,
   "metadata": {},
   "outputs": [
    {
     "name": "stdout",
     "output_type": "stream",
     "text": [
      "Enter subjects: os dbms coa\n",
      "['os', 'dbms', 'coa']\n"
     ]
    }
   ],
   "source": [
    "#if u want to take multiple inputs in same line,use split() method\n",
    "subjects=input(\"Enter subjects: \").split()\n",
    "print(subjects)"
   ]
  },
  {
   "cell_type": "code",
   "execution_count": 4,
   "metadata": {},
   "outputs": [
    {
     "name": "stdout",
     "output_type": "stream",
     "text": [
      "7\n",
      "positive no.\n"
     ]
    }
   ],
   "source": [
    "#conditional statements\n",
    "x=int(input()) #input a number\n",
    "if(x>=0):\n",
    "    print(\"positive no.\") #if x is greater than 0, it will print positive number"
   ]
  },
  {
   "cell_type": "code",
   "execution_count": 5,
   "metadata": {},
   "outputs": [
    {
     "name": "stdout",
     "output_type": "stream",
     "text": [
      "-8\n",
      "negative no. \n"
     ]
    }
   ],
   "source": [
    "#incase, u want to print anything if the \"if statement\" does not work,we can use else stmt without condition.\n",
    "x=int(input())\n",
    "if(x>=0):\n",
    "    print(\"positive no. \")\n",
    "else:\n",
    "    print(\"negative no. \")"
   ]
  },
  {
   "cell_type": "code",
   "execution_count": 6,
   "metadata": {},
   "outputs": [
    {
     "name": "stdout",
     "output_type": "stream",
     "text": [
      "0\n",
      "this is neither positive nor negative\n"
     ]
    }
   ],
   "source": [
    "#incase, you have more conditions,use else if or elif statement with condition.\n",
    "n=int(input())\n",
    "if(n==0):  #to represent equality use, \"==\". for assigning a value u can use \"=\".\n",
    "    print(\"this is neither positive nor negative\")\n",
    "elif(n>0):\n",
    "    print(\"this is a positive no.\")\n",
    "else:\n",
    "    print(\"this is a negative no.\")"
   ]
  },
  {
   "cell_type": "code",
   "execution_count": 12,
   "metadata": {},
   "outputs": [
    {
     "name": "stdout",
     "output_type": "stream",
     "text": [
      "[2, 3, 4, 5, 'string', 'myname', 55.5]\n"
     ]
    }
   ],
   "source": [
    "#list-a data structure in python\n",
    "#declaring list\n",
    "l=[2,3,4,5,\"string\",\"myname\",55.5] #list can have different data types in it unlike arrays. use\"[]\" to declare list\n",
    "print(l)"
   ]
  },
  {
   "cell_type": "code",
   "execution_count": 13,
   "metadata": {},
   "outputs": [
    {
     "name": "stdout",
     "output_type": "stream",
     "text": [
      "2\n"
     ]
    }
   ],
   "source": [
    "#accessing elements in list\n",
    "print(l[0]) #mind that indexing in python starts from \"0\"."
   ]
  },
  {
   "cell_type": "code",
   "execution_count": 16,
   "metadata": {},
   "outputs": [
    {
     "name": "stdout",
     "output_type": "stream",
     "text": [
      "3\n",
      "4\n",
      "5\n",
      "string\n",
      "myname\n",
      "55.5\n"
     ]
    }
   ],
   "source": [
    "print(l[1])\n",
    "print(l[2])\n",
    "print(l[3])\n",
    "print(l[4])\n",
    "print(l[5])\n",
    "print(l[6])\n",
    "\n",
    "#l=[0,1,2,3,4,5]\n",
    "#index of 5==-1\n",
    "#index of 4==-2"
   ]
  },
  {
   "cell_type": "code",
   "execution_count": 18,
   "metadata": {},
   "outputs": [
    {
     "name": "stdout",
     "output_type": "stream",
     "text": [
      "['string', 'myname']\n"
     ]
    }
   ],
   "source": [
    "#methods used in list\n",
    "#1)splitting based on start,end and step\n",
    "print(l[4:6]) #prints l[1],l[2],l[3] but not l[4] because index 4 is not included\n",
    "\n",
    "#list_1[start:end:step]"
   ]
  },
  {
   "cell_type": "code",
   "execution_count": 19,
   "metadata": {},
   "outputs": [
    {
     "name": "stdout",
     "output_type": "stream",
     "text": [
      "[2, 4, 'string']\n"
     ]
    }
   ],
   "source": [
    "#u can also use step\n",
    "print(l[0:5:2])  #prints l[0],l[2],l[4]. step is used to skip the values."
   ]
  },
  {
   "cell_type": "code",
   "execution_count": 20,
   "metadata": {},
   "outputs": [
    {
     "name": "stdout",
     "output_type": "stream",
     "text": [
      "['string', 'myname']\n"
     ]
    }
   ],
   "source": [
    "#there is also negative splitting to access elements in reverse order\n",
    "print(l[-3:-1]) #prints l[-3],l[-2]"
   ]
  },
  {
   "cell_type": "code",
   "execution_count": 21,
   "metadata": {},
   "outputs": [
    {
     "name": "stdout",
     "output_type": "stream",
     "text": [
      "[2, 3, 4]\n",
      "[5, 'string', 'myname', 55.5]\n"
     ]
    }
   ],
   "source": [
    "print(l[:3]) #indicates printing from starting to index 2\n",
    "print(l[3:]) #prints numbers from index 3 to end index(till end of the list)"
   ]
  },
  {
   "cell_type": "code",
   "execution_count": 22,
   "metadata": {},
   "outputs": [
    {
     "name": "stdout",
     "output_type": "stream",
     "text": [
      "appended list [2, 3, 4, 5, 'string', 'myname', 55.5, 'string']\n",
      "count 2\n",
      "index 3\n",
      "maximum is 67\n",
      "minimum is, 2\n"
     ]
    }
   ],
   "source": [
    "#list methods: \n",
    "#1) To add new elements to end of the list,use append method and give a parameter of element u want to append\n",
    "l.append(\"string\")\n",
    "print(\"appended list\",l)\n",
    "#2)count method can be used to count the number of times a specific element has occured in the list\n",
    "k=l.count(\"string\")\n",
    "print(\"count\",k)\n",
    "#3)index method gives the index at which specific element has occured\n",
    "p=l.index(5)\n",
    "print(\"index\",p)\n",
    "#4)max and min methods are used to find maximum and minimum elements in a list\n",
    "#since,max and min can only be applied on numeric data we create a numeric list\n",
    "a=[2,67,34,55,6.8,3.5]\n",
    "max_e=max(a)\n",
    "print(\"maximum is\",max_e)\n",
    "min_e=min(a)\n",
    "print(\"minimum is,\",min_e)\n"
   ]
  },
  {
   "cell_type": "code",
   "execution_count": 23,
   "metadata": {},
   "outputs": [
    {
     "name": "stdout",
     "output_type": "stream",
     "text": [
      "['can', 34, 97, 55, 6.7, 'dream', 'chandu', 'j']\n"
     ]
    }
   ],
   "source": [
    "#insert method is used to insert an element at a position. insert(index,element)\n",
    "b=[\"can\",34,55,6.7,\"dream\",\"j\"]\n",
    "b.insert(5,\"chandu\")\n",
    "b.insert(2,97)\n",
    "print(b)"
   ]
  },
  {
   "cell_type": "code",
   "execution_count": 24,
   "metadata": {},
   "outputs": [
    {
     "name": "stdout",
     "output_type": "stream",
     "text": [
      "5\n"
     ]
    }
   ],
   "source": [
    "#finally,len() function is used to find the length of the list\n",
    "a=[2,45,67,83,45]\n",
    "n=len(a)\n",
    "print(n)"
   ]
  },
  {
   "cell_type": "code",
   "execution_count": 25,
   "metadata": {},
   "outputs": [
    {
     "name": "stdout",
     "output_type": "stream",
     "text": [
      "83\n",
      "[2, 45, 67, 45]\n",
      "45\n",
      "[2, 45, 67]\n"
     ]
    }
   ],
   "source": [
    "#pop method is used to remove an element at a specified INDEX\n",
    "s=a.pop(3)\n",
    "print(s)\n",
    "print(a)\n",
    "last=a.pop() #if nothing is specified pop method removes last element of list\n",
    "print(last)\n",
    "print(a)"
   ]
  },
  {
   "cell_type": "code",
   "execution_count": 26,
   "metadata": {},
   "outputs": [
    {
     "name": "stdout",
     "output_type": "stream",
     "text": [
      "['j', 'chandu', 'dream', 6.7, 55, 97, 34, 'can']\n"
     ]
    }
   ],
   "source": [
    "#reversing whole list\n",
    "b.reverse()\n",
    "print(b)"
   ]
  },
  {
   "cell_type": "code",
   "execution_count": 27,
   "metadata": {},
   "outputs": [
    {
     "name": "stdout",
     "output_type": "stream",
     "text": [
      "[-123, -30, 0, 23, 32, 45, 53, 56, 67, 89, 102]\n"
     ]
    }
   ],
   "source": [
    "#for sorting list, use sort() method which by default sorts in ascending order\n",
    "#b.sort() gives error since we can sort only when list has elements of single data type\n",
    "a=[23,53,0,-30,45,32,67,-123,89,56,102]\n",
    "a.sort()\n",
    "print(a)"
   ]
  },
  {
   "cell_type": "code",
   "execution_count": 28,
   "metadata": {},
   "outputs": [
    {
     "name": "stdout",
     "output_type": "stream",
     "text": [
      "[102, 89, 67, 56, 53, 45, 32, 23, 0, -30, -123]\n",
      "[-123, -30, 0, 23, 32, 45, 53, 56, 67, 89, 102]\n"
     ]
    }
   ],
   "source": [
    "#to sort in DESCENDING ORDER,use parameter reverse\n",
    "a.sort(reverse=True)  #descending\n",
    "print(a)\n",
    "a.sort(reverse=False)   #ascending\n",
    "print(a)"
   ]
  },
  {
   "cell_type": "code",
   "execution_count": 29,
   "metadata": {},
   "outputs": [
    {
     "name": "stdout",
     "output_type": "stream",
     "text": [
      "[-123, -30, 0, 23, 32, 45, 53, 67, 89, 102]\n"
     ]
    }
   ],
   "source": [
    "#remove() also works like pop() but parameter used in reverse shouldn't be index, it should be the element itself\n",
    "a.remove(56)  #to use pop for this case, u can mention a.pop(index of 56)\n",
    "print(a)"
   ]
  },
  {
   "cell_type": "code",
   "execution_count": 30,
   "metadata": {},
   "outputs": [
    {
     "ename": "NameError",
     "evalue": "name 'l' is not defined",
     "output_type": "error",
     "traceback": [
      "\u001b[1;31m---------------------------------------------------------------------------\u001b[0m",
      "\u001b[1;31mNameError\u001b[0m                                 Traceback (most recent call last)",
      "\u001b[1;32m<ipython-input-30-4d6d1cebdb7a>\u001b[0m in \u001b[0;36m<module>\u001b[1;34m\u001b[0m\n\u001b[0;32m      1\u001b[0m \u001b[1;31m#delete method deletes the whole list\u001b[0m\u001b[1;33m\u001b[0m\u001b[1;33m\u001b[0m\u001b[1;33m\u001b[0m\u001b[0m\n\u001b[0;32m      2\u001b[0m \u001b[1;32mdel\u001b[0m\u001b[1;33m(\u001b[0m\u001b[0ml\u001b[0m\u001b[1;33m)\u001b[0m\u001b[1;33m\u001b[0m\u001b[1;33m\u001b[0m\u001b[0m\n\u001b[1;32m----> 3\u001b[1;33m \u001b[0mprint\u001b[0m\u001b[1;33m(\u001b[0m\u001b[0ml\u001b[0m\u001b[1;33m)\u001b[0m \u001b[1;31m#gives error since after deleting,there is no list named l\u001b[0m\u001b[1;33m\u001b[0m\u001b[1;33m\u001b[0m\u001b[0m\n\u001b[0m",
      "\u001b[1;31mNameError\u001b[0m: name 'l' is not defined"
     ]
    }
   ],
   "source": [
    "#delete method deletes the whole list\n",
    "del(l)\n",
    "print(l) #gives error since after deleting,there is no list named l"
   ]
  },
  {
   "cell_type": "code",
   "execution_count": 33,
   "metadata": {},
   "outputs": [
    {
     "name": "stdout",
     "output_type": "stream",
     "text": [
      "a:  [-123, -30, 0, 23, 32, 45, 53, 67, 89, 102, 'j', 'chandu', 'dream', 6.7, 55, 97, 34, 'can', 'j', 'chandu', 'dream', 6.7, 55, 97, 34, 'can']\n",
      "b:  None\n"
     ]
    },
    {
     "ename": "TypeError",
     "evalue": "'NoneType' object is not iterable",
     "output_type": "error",
     "traceback": [
      "\u001b[1;31m---------------------------------------------------------------------------\u001b[0m",
      "\u001b[1;31mTypeError\u001b[0m                                 Traceback (most recent call last)",
      "\u001b[1;32m<ipython-input-33-6486b5ed0cc1>\u001b[0m in \u001b[0;36m<module>\u001b[1;34m\u001b[0m\n\u001b[0;32m      2\u001b[0m \u001b[0mprint\u001b[0m\u001b[1;33m(\u001b[0m\u001b[1;34m\"a: \"\u001b[0m\u001b[1;33m,\u001b[0m\u001b[0ma\u001b[0m\u001b[1;33m)\u001b[0m\u001b[1;33m\u001b[0m\u001b[1;33m\u001b[0m\u001b[0m\n\u001b[0;32m      3\u001b[0m \u001b[0mprint\u001b[0m\u001b[1;33m(\u001b[0m\u001b[1;34m\"b: \"\u001b[0m\u001b[1;33m,\u001b[0m\u001b[0mb\u001b[0m\u001b[1;33m)\u001b[0m\u001b[1;33m\u001b[0m\u001b[1;33m\u001b[0m\u001b[0m\n\u001b[1;32m----> 4\u001b[1;33m \u001b[0ma\u001b[0m\u001b[1;33m.\u001b[0m\u001b[0mextend\u001b[0m\u001b[1;33m(\u001b[0m\u001b[0mb\u001b[0m\u001b[1;33m)\u001b[0m\u001b[1;33m\u001b[0m\u001b[1;33m\u001b[0m\u001b[0m\n\u001b[0m\u001b[0;32m      5\u001b[0m \u001b[0mprint\u001b[0m\u001b[1;33m(\u001b[0m\u001b[0ma\u001b[0m\u001b[1;33m)\u001b[0m \u001b[1;31m#appends b to a\u001b[0m\u001b[1;33m\u001b[0m\u001b[1;33m\u001b[0m\u001b[0m\n",
      "\u001b[1;31mTypeError\u001b[0m: 'NoneType' object is not iterable"
     ]
    }
   ],
   "source": [
    "#extend method is used to join two lists end by end\n",
    "print(\"a: \",a)\n",
    "print(\"b: \",b)\n",
    "a.extend(b)\n",
    "print(a) #appends b to a"
   ]
  },
  {
   "cell_type": "code",
   "execution_count": 38,
   "metadata": {},
   "outputs": [
    {
     "name": "stdout",
     "output_type": "stream",
     "text": [
      "2\n",
      "str\n",
      "34\n",
      "56\n",
      "yt\n",
      "78\n",
      "['str', 34, 56]\n",
      "[56, 34, 'str']\n",
      "['str', 34, 56]\n"
     ]
    }
   ],
   "source": [
    "#for printing each element in list, u can use loops instead of printing each element\n",
    "#FOR LOOP\n",
    "k=[2,\"str\",34,56,\"yt\",78]\n",
    "#for i in range(len(k)):\n",
    "#   l[i]\n",
    "for i in k:\n",
    "    print(i)  #prints all the elements of a list\n",
    "k=k[1:4]\n",
    "print(k)\n",
    "k.reverse()\n",
    "print(k)\n",
    "k=k[::-1]\n",
    "\n",
    "#  6 7 8 4 3\n",
    "#i:0 1 2 3 4\n",
    "#0-1=-1\n",
    "#-1-1=-2\n",
    "print(k)"
   ]
  },
  {
   "cell_type": "code",
   "execution_count": 37,
   "metadata": {},
   "outputs": [
    {
     "name": "stdout",
     "output_type": "stream",
     "text": [
      "tuple is (2, 3, 'str', 55, 89.7)\n",
      "sorted tuple is [-34, -4, 2, 3.5, 4.5, 56, 77, 89]\n",
      "minimum,maximum are -34 89\n",
      "splitted tuple (2, 3.5, -4, 77)\n",
      "reversed tuple is  (77, -4, 3.5, 2)\n"
     ]
    }
   ],
   "source": [
    "#NEXT IS TUPLE, A DATA STRUCTURE REPRESENTED WITH ()\n",
    "#tuples are immutable,once created they cannot be changed. but lists are mutable\n",
    "t=(2,3,\"str\",55,89.7)\n",
    "print(\"tuple is\",t)\n",
    "q=(2,3.5,-4,77,89,56,4.5,-34)\n",
    "#use sorted method to sort a tuple and as they are immutable, assign the sorted list to new tuple\n",
    "p=sorted(q)\n",
    "print(\"sorted tuple is\",p)\n",
    "#we can use max and min here also\n",
    "min_e=min(q)\n",
    "max_e=max(q)\n",
    "print(\"minimum,maximum are\",min_e,max_e)\n",
    "#splitting\n",
    "s=q[0:4]\n",
    "print(\"splitted tuple\",s)\n",
    "#reversed tuple\n",
    "t=q[::-1]\n",
    "print(\"reversed tuple is \",t)"
   ]
  },
  {
   "cell_type": "code",
   "execution_count": 40,
   "metadata": {},
   "outputs": [
    {
     "name": "stdout",
     "output_type": "stream",
     "text": [
      "[77, -4, 3.5, 2]\n",
      "<class 'list'>\n",
      "(77, -4, 97, 3.5, 2)\n",
      "(-123, -30, 0, 23, 32, 45, 53, 67, 89, 102, 'j', 'chandu', 'dream', 6.7, 55, 97, 34, 'can', 'j', 'chandu', 'dream', 6.7, 55, 97, 34, 'can')\n",
      "<class 'tuple'>\n"
     ]
    }
   ],
   "source": [
    "#to make tuples mutable convert them to lists and access them\n",
    "t1=list(t)\n",
    "print(t1)\n",
    "#to check the datatype of a variable or data structure use type() function\n",
    "print(type(t1))\n",
    "t1.insert(2,97)\n",
    "w=tuple(t1)\n",
    "print(w)\n",
    "#now u can use t1 to change or sort or etc.\n",
    "#there is also a vice versa available. list can be converted into tuple\n",
    "e=tuple(a)\n",
    "print(e)\n",
    "print(type(e))"
   ]
  },
  {
   "cell_type": "markdown",
   "metadata": {},
   "source": [
    "STRINGS AND STRING MANIPULATION FUNCTIONS"
   ]
  },
  {
   "cell_type": "code",
   "execution_count": 41,
   "metadata": {},
   "outputs": [
    {
     "name": "stdout",
     "output_type": "stream",
     "text": [
      "decidious\n",
      "9\n",
      "decid\n",
      "dcd\n"
     ]
    }
   ],
   "source": [
    "st=\"decidious\"\n",
    "print(st)\n",
    "print(len(st)) #prints length of string\n",
    "print(st[0:5]) #prints st from index 0 to 4\n",
    "print(st[0:6:2]) #here 2 is the step"
   ]
  },
  {
   "cell_type": "code",
   "execution_count": 42,
   "metadata": {},
   "outputs": [
    {
     "name": "stdout",
     "output_type": "stream",
     "text": [
      "Decidious\n",
      "DECIDIOUS\n",
      "decidious\n",
      "False\n",
      "True\n"
     ]
    }
   ],
   "source": [
    "#methods used\n",
    "cap=st.capitalize()  #capitalizes 1st letter\n",
    "print(cap)\n",
    "up=st.upper() #converts all of them into upper case\n",
    "print(up)\n",
    "lo=st.lower()  #converts all of them into into lower case\n",
    "print(lo)\n",
    "iu=st.isupper()   #prints true if all are in upper case\n",
    "print(iu)\n",
    "il=st.islower()  #prints true if all are in lower case\n",
    "print(il)"
   ]
  },
  {
   "cell_type": "code",
   "execution_count": 43,
   "metadata": {},
   "outputs": [
    {
     "name": "stdout",
     "output_type": "stream",
     "text": [
      "dec d ous\n",
      "kecikious\n"
     ]
    }
   ],
   "source": [
    "re=st.replace(\"i\",\" \") #wherever it finds i in the string it replaces by space\n",
    "print(re)\n",
    "rp=st.replace(\"d\",\"k\")\n",
    "print(rp)"
   ]
  },
  {
   "cell_type": "code",
   "execution_count": 44,
   "metadata": {},
   "outputs": [
    {
     "name": "stdout",
     "output_type": "stream",
     "text": [
      "['abcd', 'ef']\n",
      "<class 'str'>\n",
      "<class 'list'>\n"
     ]
    }
   ],
   "source": [
    "st=\"abcd,ef\"\n",
    "st1=st.split(\",\")   #splits string into list whenever it finds \",\". any other symbols can also be given\n",
    "print(st1)\n",
    "print(type(st))\n",
    "print(type(st1))"
   ]
  },
  {
   "cell_type": "code",
   "execution_count": 45,
   "metadata": {},
   "outputs": [
    {
     "data": {
      "text/plain": [
       "'hello'"
      ]
     },
     "execution_count": 45,
     "metadata": {},
     "output_type": "execute_result"
    }
   ],
   "source": [
    "#strip() function is used to remove the occurences of a char u provide\n",
    "st2=\"!!!!hello!!!!\"\n",
    "st2.strip(\"!\")"
   ]
  },
  {
   "cell_type": "code",
   "execution_count": 46,
   "metadata": {},
   "outputs": [
    {
     "data": {
      "text/plain": [
       "'hello!!!!!hello'"
      ]
     },
     "execution_count": 46,
     "metadata": {},
     "output_type": "execute_result"
    }
   ],
   "source": [
    "st2=\"!!!!!!hello!!!!!hello!!!!\"\n",
    "st2.strip(\"!\")   #removes only leading and trailing characters"
   ]
  },
  {
   "cell_type": "code",
   "execution_count": 47,
   "metadata": {},
   "outputs": [
    {
     "data": {
      "text/plain": [
       "'hello!!!!!hello!!!!'"
      ]
     },
     "execution_count": 47,
     "metadata": {},
     "output_type": "execute_result"
    }
   ],
   "source": [
    "st2.lstrip(\"!\") #strips off \"!\" on left side"
   ]
  },
  {
   "cell_type": "code",
   "execution_count": 48,
   "metadata": {},
   "outputs": [
    {
     "data": {
      "text/plain": [
       "'!!!!!!hello!!!!!hello'"
      ]
     },
     "execution_count": 48,
     "metadata": {},
     "output_type": "execute_result"
    }
   ],
   "source": [
    "st2.rstrip(\"!\")  #strips off \"!\" on right side"
   ]
  },
  {
   "cell_type": "code",
   "execution_count": 50,
   "metadata": {},
   "outputs": [
    {
     "name": "stdout",
     "output_type": "stream",
     "text": [
      "{'name': 'chandu', 'cls': 'csec', 'clg': 'gnits'}\n",
      "csec\n",
      "shreya\n"
     ]
    }
   ],
   "source": [
    "#Dictionary is another data structure wherein the values will be in key: value pairs. so, it is more flexible to use when we know the keys neede and values assigned to them.\n",
    "dictionary={\n",
    "            \"name\":\"chandu\",\n",
    "            \"cls\":\"csec\",\n",
    "            \"clg\":\"gnits\"\n",
    "           }\n",
    "dict2={\n",
    "    1:\"swarna\",\n",
    "    2:\"shreya\",\n",
    "    3:\"harshi\"\n",
    "}\n",
    "print(dictionary)\n",
    "print(dictionary[\"cls\"])  #prints the value assigned to \"name\"\n",
    "\n",
    "print(dict2[2])"
   ]
  },
  {
   "cell_type": "code",
   "execution_count": 51,
   "metadata": {},
   "outputs": [
    {
     "name": "stdout",
     "output_type": "stream",
     "text": [
      "{97: 100, 98: 101, 99: 102}\n"
     ]
    }
   ],
   "source": [
    "#to convert the strings to dictionaries, one can use maketrans() method, which is used for 1:1 mapping of strings\n",
    "st3=\"abc\"\n",
    "st4='def'\n",
    "st=\"abc\"\n",
    "print(st.maketrans(st3,st4))  #HERE,\"st3\" is used as key wherein a,b,c are keys and corresponding values of keys are d,e,f.\n",
    "#but their ascii values are printed"
   ]
  },
  {
   "cell_type": "markdown",
   "metadata": {},
   "source": [
    "LOOPS"
   ]
  },
  {
   "cell_type": "code",
   "execution_count": 8,
   "metadata": {},
   "outputs": [
    {
     "name": "stdout",
     "output_type": "stream",
     "text": [
      "5\n",
      "5 * 1 =  5\n",
      "5 * 2 =  10\n",
      "5 * 3 =  15\n",
      "5 * 4 =  20\n",
      "5 * 5 =  25\n",
      "5 * 6 =  30\n",
      "5 * 7 =  35\n",
      "5 * 8 =  40\n",
      "5 * 9 =  45\n"
     ]
    }
   ],
   "source": [
    "#FOR LOOP:\n",
    "#the syntax is for variable in list/range(number). #range() function is used to specify the start,end and step values\n",
    "#let us print 2 table or multiples of 2 upto 10\n",
    "n=int(input())\n",
    "for i in range(1,10): #default step is 1,so no need to mention. #INDENTATION IS COMPULSORY for(int i-0;i<r;i++){}\n",
    "    print(n,\"*\",i,\"= \",n*i)"
   ]
  },
  {
   "cell_type": "code",
   "execution_count": 9,
   "metadata": {},
   "outputs": [
    {
     "name": "stdout",
     "output_type": "stream",
     "text": [
      "2* 1 =  2\n",
      "2* 2 =  4\n",
      "2* 3 =  6\n",
      "2* 4 =  8\n",
      "2* 5 =  10\n",
      "2* 6 =  12\n",
      "2* 7 =  14\n",
      "2* 8 =  16\n",
      "2* 9 =  18\n",
      "2* 10 =  20\n"
     ]
    }
   ],
   "source": [
    "#achieving same with while loop:\n",
    "i=1;\n",
    "while(i<=10):\n",
    "    print(\"2*\",i,\"= \",2*i)\n",
    "    i+=1;     #updating statement"
   ]
  },
  {
   "cell_type": "code",
   "execution_count": 10,
   "metadata": {},
   "outputs": [
    {
     "name": "stdout",
     "output_type": "stream",
     "text": [
      "0\n",
      "1\n",
      "2\n",
      "hi\n"
     ]
    }
   ],
   "source": [
    "#break and continue statements:\n",
    "for i in range(5):\n",
    "    if(i==3):\n",
    "        break   #comes out of loop if \"3\" is encountered and moves to next stmt after the loop\n",
    "    else:\n",
    "        print(i)\n",
    "print(\"hi\")"
   ]
  },
  {
   "cell_type": "code",
   "execution_count": 11,
   "metadata": {},
   "outputs": [
    {
     "name": "stdout",
     "output_type": "stream",
     "text": [
      "0\n",
      "1\n",
      "2\n",
      "4\n",
      "hi\n"
     ]
    }
   ],
   "source": [
    "#continue statement skips that part and repeats loop again \n",
    "for i in range(5):\n",
    "    if(i==3):\n",
    "        continue   #skips \"3\" and performs next iteration\n",
    "    else:\n",
    "        print(i)\n",
    "print(\"hi\")"
   ]
  },
  {
   "cell_type": "code",
   "execution_count": null,
   "metadata": {},
   "outputs": [],
   "source": [
    "t=(45,87,89,65,23)\n",
    "for i in t:\n",
    "    print(i,end=\" \")  #end=\" \" prints all in single line with spaces\n",
    "print() #prints new line\n",
    "print()\n",
    "#by while loop also,we get same output\n",
    "i=0;\n",
    "while(i<len(t)):\n",
    "    print(t[i])\n",
    "    i+=1"
   ]
  },
  {
   "cell_type": "markdown",
   "metadata": {},
   "source": [
    "TAKING INPUT IN LISTS"
   ]
  },
  {
   "cell_type": "code",
   "execution_count": null,
   "metadata": {},
   "outputs": [],
   "source": [
    "#best way is using map() function which takes 2 parameters. 1st is datatype.\n",
    "lt2=list(map(int,input().split()))\n",
    "print(lt2)"
   ]
  },
  {
   "cell_type": "markdown",
   "metadata": {},
   "source": [
    "FUNCTIONS"
   ]
  },
  {
   "cell_type": "code",
   "execution_count": null,
   "metadata": {},
   "outputs": [],
   "source": [
    "#in python functions are dfined by the keyword \"def\" followed by function name() and colon.\n",
    "#then on indent ur code with 4 spaces or a tab space and complete the logic.\n",
    "#After that,call the function\n",
    "def abc():\n",
    "    print(\"Hello\")\n",
    "abc()\n",
    "\n"
   ]
  },
  {
   "cell_type": "code",
   "execution_count": null,
   "metadata": {},
   "outputs": [],
   "source": [
    "#checking even or odd number using functions.\n",
    "def evenodd():\n",
    "    if(a%2==0):\n",
    "        return \"even\"     #returns even if it is divisible by 2 else returns odd \n",
    "    else:\n",
    "        return \"odd\"\n",
    "a=int(input())\n",
    "print(evenodd())"
   ]
  },
  {
   "cell_type": "markdown",
   "metadata": {},
   "source": [
    "MADE BY DVS.CHANDANA, for any doubts email me at dvs6112001@gmail.com"
   ]
  },
  {
   "cell_type": "code",
   "execution_count": 52,
   "metadata": {},
   "outputs": [
    {
     "data": {
      "text/plain": [
       "16"
      ]
     },
     "execution_count": 52,
     "metadata": {},
     "output_type": "execute_result"
    }
   ],
   "source": [
    "4**2"
   ]
  },
  {
   "cell_type": "code",
   "execution_count": 54,
   "metadata": {},
   "outputs": [
    {
     "data": {
      "text/plain": [
       "complex"
      ]
     },
     "execution_count": 54,
     "metadata": {},
     "output_type": "execute_result"
    }
   ],
   "source": [
    "b=3+7j\n",
    "type(b)"
   ]
  },
  {
   "cell_type": "code",
   "execution_count": 55,
   "metadata": {},
   "outputs": [
    {
     "data": {
      "text/plain": [
       "'0b101'"
      ]
     },
     "execution_count": 55,
     "metadata": {},
     "output_type": "execute_result"
    }
   ],
   "source": [
    "b=5\n",
    "bin(5)"
   ]
  },
  {
   "cell_type": "code",
   "execution_count": 56,
   "metadata": {},
   "outputs": [
    {
     "name": "stdout",
     "output_type": "stream",
     "text": [
      "2\n"
     ]
    }
   ],
   "source": [
    "l=[2,3,6,6.7]\n",
    "if 2 in l:\n",
    "    print(2)"
   ]
  },
  {
   "cell_type": "code",
   "execution_count": 58,
   "metadata": {},
   "outputs": [],
   "source": [
    "str1=\"hffhgdggjhmjcgxgfuiytyf\"\n",
    "if \"gxg\" not in str1:\n",
    "    print(\"hi\")"
   ]
  },
  {
   "cell_type": "code",
   "execution_count": 61,
   "metadata": {},
   "outputs": [
    {
     "name": "stdout",
     "output_type": "stream",
     "text": [
      "True\n"
     ]
    }
   ],
   "source": [
    "a=42\n",
    "b='42'\n",
    "if a is not b:\n",
    "    print(True)"
   ]
  },
  {
   "cell_type": "code",
   "execution_count": 63,
   "metadata": {},
   "outputs": [
    {
     "name": "stdout",
     "output_type": "stream",
     "text": [
      "0x5\n",
      "0o5\n"
     ]
    },
    {
     "data": {
      "text/plain": [
       "'0b101'"
      ]
     },
     "execution_count": 63,
     "metadata": {},
     "output_type": "execute_result"
    }
   ],
   "source": [
    "print(hex(5))\n",
    "print(oct(5))\n",
    "bin(5)"
   ]
  },
  {
   "cell_type": "code",
   "execution_count": 67,
   "metadata": {},
   "outputs": [
    {
     "data": {
      "text/plain": [
       "7.0"
      ]
     },
     "execution_count": 67,
     "metadata": {},
     "output_type": "execute_result"
    }
   ],
   "source": [
    "import math as my\n",
    "my.sqrt(49)"
   ]
  },
  {
   "cell_type": "code",
   "execution_count": 68,
   "metadata": {},
   "outputs": [
    {
     "data": {
      "text/plain": [
       "8"
      ]
     },
     "execution_count": 68,
     "metadata": {},
     "output_type": "execute_result"
    }
   ],
   "source": [
    "pow(2,3)"
   ]
  },
  {
   "cell_type": "code",
   "execution_count": 69,
   "metadata": {},
   "outputs": [
    {
     "data": {
      "text/plain": [
       "'A'"
      ]
     },
     "execution_count": 69,
     "metadata": {},
     "output_type": "execute_result"
    }
   ],
   "source": [
    "chr(65)"
   ]
  },
  {
   "cell_type": "code",
   "execution_count": 70,
   "metadata": {},
   "outputs": [
    {
     "data": {
      "text/plain": [
       "65"
      ]
     },
     "execution_count": 70,
     "metadata": {},
     "output_type": "execute_result"
    }
   ],
   "source": [
    "ord('A')"
   ]
  },
  {
   "cell_type": "code",
   "execution_count": null,
   "metadata": {},
   "outputs": [],
   "source": []
  }
 ],
 "metadata": {
  "kernelspec": {
   "display_name": "Python 3",
   "language": "python",
   "name": "python3"
  },
  "language_info": {
   "codemirror_mode": {
    "name": "ipython",
    "version": 3
   },
   "file_extension": ".py",
   "mimetype": "text/x-python",
   "name": "python",
   "nbconvert_exporter": "python",
   "pygments_lexer": "ipython3",
   "version": "3.7.6"
  }
 },
 "nbformat": 4,
 "nbformat_minor": 4
}
